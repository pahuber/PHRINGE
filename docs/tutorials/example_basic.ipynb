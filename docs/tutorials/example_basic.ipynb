{
 "cells": [
  {
   "metadata": {},
   "cell_type": "markdown",
   "source": [
    "# Basic Example\n",
    "In this example two input files are used to generate a basic data set for an Earth-like planet orbiting a Sun-like star 10 pc away. No GPUs are specified and hence the code is run on the CPU."
   ],
   "id": "32c482290099e8fd"
  },
  {
   "metadata": {},
   "cell_type": "markdown",
   "source": "## Import modules and specify paths",
   "id": "1cd03095dde90b27"
  },
  {
   "metadata": {
    "ExecuteTime": {
     "end_time": "2024-07-09T14:31:02.472834Z",
     "start_time": "2024-07-09T14:31:01.697251Z"
    }
   },
   "cell_type": "code",
   "source": [
    "from pathlib import Path\n",
    "\n",
    "import matplotlib.pyplot as plt\n",
    "\n",
    "from phringe.phringe_ui import PHRINGE\n",
    "\n",
    "path_to_config_file = Path('../config.yaml')\n",
    "path_to_exoplanetary_system_file = Path('../exoplanetary_system.yaml')"
   ],
   "id": "2efab22c555e5411",
   "outputs": [],
   "execution_count": 5
  },
  {
   "metadata": {},
   "cell_type": "markdown",
   "source": "## Run PHRINGE on CPU",
   "id": "2ee06a3206275d84"
  },
  {
   "metadata": {
    "ExecuteTime": {
     "end_time": "2024-07-09T14:31:05.421546Z",
     "start_time": "2024-07-09T14:31:03.547404Z"
    }
   },
   "cell_type": "code",
   "source": [
    "phringe = PHRINGE()\n",
    "phringe.run(\n",
    "    config_file_path=path_to_config_file,\n",
    "    exoplanetary_system_file_path=path_to_exoplanetary_system_file,\n",
    "    write_fits=False,\n",
    "    create_copy=False\n",
    ")"
   ],
   "id": "4a432668f5cf57ba",
   "outputs": [
    {
     "name": "stderr",
     "output_type": "stream",
     "text": [
      "/usr/local/lib/python3.10/dist-packages/torch/functional.py:504: UserWarning: torch.meshgrid: in an upcoming release, it will be required to pass the indexing argument. (Triggered internally at ../aten/src/ATen/native/TensorShape.cpp:3190.)\n",
      "  return _VF.meshgrid(tensors, **kwargs)  # type: ignore[attr-defined]\n"
     ]
    }
   ],
   "execution_count": 6
  },
  {
   "metadata": {},
   "cell_type": "markdown",
   "source": "## Get and Plot Data",
   "id": "33d6ed99913941"
  },
  {
   "metadata": {
    "ExecuteTime": {
     "end_time": "2024-07-09T14:31:08.080968Z",
     "start_time": "2024-07-09T14:31:07.941438Z"
    }
   },
   "cell_type": "code",
   "source": [
    "data = phringe.get_data()\n",
    "\n",
    "plt.imshow(data[0], cmap='Greys')\n",
    "plt.title('Synthetic Data')\n",
    "plt.ylabel('Wavelength Channel')\n",
    "plt.xlabel('Time Step')\n",
    "plt.colorbar()\n",
    "plt.show()"
   ],
   "id": "6000d4f33b9d4f83",
   "outputs": [
    {
     "data": {
      "text/plain": [
       "<Figure size 432x288 with 2 Axes>"
      ],
      "image/png": "[encoded data removed]"
     },
     "metadata": {
      "needs_background": "light"
     },
     "output_type": "display_data"
    }
   ],
   "execution_count": 7
  }
 ],
 "metadata": {
  "kernelspec": {
   "display_name": "Python 3",
   "language": "python",
   "name": "python3"
  },
  "language_info": {
   "codemirror_mode": {
    "name": "ipython",
    "version": 2
   },
   "file_extension": ".py",
   "mimetype": "text/x-python",
   "name": "python",
   "nbconvert_exporter": "python",
   "pygments_lexer": "ipython2",
   "version": "2.7.6"
  }
 },
 "nbformat": 4,
 "nbformat_minor": 5
}
