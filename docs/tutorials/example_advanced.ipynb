{
 "cells": [
  {
   "metadata": {},
   "cell_type": "markdown",
   "source": [
    "# Advanced Example\n",
    "In this advanced example two input files, a spectrum file and a manually created Settings object are used to generate a basic data set for an Earth-like planet orbiting a Sun-like star 10 pc away. The Settings object will overwrite the settings specified in the config file. The code is run on GPU #0 in detailed mode, thus also saving and outputting the intensity responses."
   ],
   "id": "32c482290099e8fd"
  },
  {
   "metadata": {},
   "cell_type": "markdown",
   "source": "",
   "id": "3d2346e9779b251c"
  },
  {
   "metadata": {},
   "cell_type": "markdown",
   "source": "## Import the Required Modules\n",
   "id": "dd4ee00ada87895b"
  },
  {
   "metadata": {
    "ExecuteTime": {
     "end_time": "2025-02-04T15:20:47.342108Z",
     "start_time": "2025-02-04T15:20:43.779094Z"
    }
   },
   "cell_type": "code",
   "source": [
    "import astropy.units as u\n",
    "import matplotlib.pyplot as plt\n",
    "\n",
    "from phringe.entities.observation import Observation\n",
    "from phringe.entities.perturbations.amplitude_perturbation import AmplitudePerturbation\n",
    "from phringe.entities.perturbations.phase_perturbation import PhasePerturbation\n",
    "from phringe.entities.perturbations.polarization_perturbation import PolarizationPerturbation\n",
    "from phringe.entities.scene import Scene\n",
    "from phringe.entities.sources.exozodi import Exozodi\n",
    "from phringe.entities.sources.local_zodi import LocalZodi\n",
    "from phringe.entities.sources.planet import Planet\n",
    "from phringe.entities.sources.star import Star\n",
    "from phringe.phringe import PHRINGE\n",
    "from phringe.util.library import LIFEBaselineArchitecture"
   ],
   "id": "515c36d15903b489",
   "outputs": [
    {
     "name": "stderr",
     "output_type": "stream",
     "text": [
      "/home/huberph/.local/lib/python3.10/site-packages/tqdm/auto.py:21: TqdmWarning: IProgress not found. Please update jupyter and ipywidgets. See https://ipywidgets.readthedocs.io/en/stable/user_install.html\n",
      "  from .autonotebook import tqdm as notebook_tqdm\n"
     ]
    }
   ],
   "execution_count": 2
  },
  {
   "metadata": {},
   "cell_type": "markdown",
   "source": [
    "## Create the Main PHRINGE Object\n",
    "\n",
    "`PHRINGE` will run on CPU if `gpu=None`. To run int on GPU, an index specifying the GPU is required, e.g. `gpu=0`. For reproducibility `seed` can be set to a specific value, resulting in identical results for each run. Note that `seed=None` results in the use ifa random seed each run."
   ],
   "id": "7d72c151b133b466"
  },
  {
   "metadata": {
    "ExecuteTime": {
     "end_time": "2025-02-04T15:20:47.657273Z",
     "start_time": "2025-02-04T15:20:47.343858Z"
    }
   },
   "cell_type": "code",
   "source": "phringe = PHRINGE(gpu=1, seed=None, grid_size=40)",
   "id": "ede46dbf8ab906c2",
   "outputs": [],
   "execution_count": 3
  },
  {
   "metadata": {},
   "cell_type": "markdown",
   "source": [
    "## Create an Observation and Set it\n",
    "\n",
    "Arguments that require numerical values with units can be passed either as \n",
    "1. astropy quantities, e.g. `10 * u.m`\n",
    "2. strings with units, e.g. `'10 m'`, or\n",
    "3. floats (ints), assuming SI units, e.g. `10`.\n",
    "\n",
    "The use of astropy quantities is recommended for clarity."
   ],
   "id": "9ca2400481bf523b"
  },
  {
   "metadata": {
    "ExecuteTime": {
     "end_time": "2025-02-04T15:20:47.673094Z",
     "start_time": "2025-02-04T15:20:47.658801Z"
    }
   },
   "cell_type": "code",
   "source": [
    "obs = Observation(\n",
    "    solar_ecliptic_latitude=0 * u.deg,  # alternatively: '0 deg' or 0\n",
    "    total_integration_time=1 * u.day,  # alternatively: '1 d' or 86400\n",
    "    detector_integration_time=600 * u.s,  # alternatively: '600 s' or 600\n",
    "    modulation_period=1 * u.day,  # alternatively: '1 d' or 86400\n",
    "    optimized_differential_output=0,  # This is used to calculate the nulling baseline length\n",
    "    optimized_star_separation='habitable-zone',  # This is used to calculate the nulling baseline length\n",
    "    optimized_wavelength=10 * u.um\n",
    "    # alternatively: '10 um' or 1e-5; this is used to calculate the nulling baseline length\n",
    ")\n",
    "phringe.set(obs)"
   ],
   "id": "e55eeb84375ae52c",
   "outputs": [],
   "execution_count": 4
  },
  {
   "metadata": {},
   "cell_type": "markdown",
   "source": "**Note:** After initialization, the class attributes are converted to SI units and stored as floats, as astropy quantiteis can have a significant impact on performance. For instance:",
   "id": "9e3df85d13f8a125"
  },
  {
   "metadata": {
    "ExecuteTime": {
     "end_time": "2025-02-04T15:20:47.685500Z",
     "start_time": "2025-02-04T15:20:47.674686Z"
    }
   },
   "cell_type": "code",
   "source": "obs.total_integration_time\n",
   "id": "9545227f825e2bd2",
   "outputs": [
    {
     "data": {
      "text/plain": [
       "86400.0"
      ]
     },
     "execution_count": 5,
     "metadata": {},
     "output_type": "execute_result"
    }
   ],
   "execution_count": 5
  },
  {
   "metadata": {},
   "cell_type": "markdown",
   "source": [
    "## Create an Instrument and Set it\n",
    "An instrument can be created manually using the `Instrument` class or by using a predefined instrument frmo the library. Here, we use the predefined LIFE baseline architecture as our instrument.   "
   ],
   "id": "57cf8de92d846014"
  },
  {
   "metadata": {
    "ExecuteTime": {
     "end_time": "2025-02-04T15:20:49.208948Z",
     "start_time": "2025-02-04T15:20:48.488997Z"
    }
   },
   "cell_type": "code",
   "source": [
    "inst = LIFEBaselineArchitecture()\n",
    "phringe.set(inst)"
   ],
   "id": "6f335cf9c1cf82d0",
   "outputs": [],
   "execution_count": 6
  },
  {
   "metadata": {},
   "cell_type": "markdown",
   "source": "**Note:** Attributes of objects can also be updated. For instance, changing the aperture diameter from the predefined value to 3.5 m:",
   "id": "f92882948a0d43c1"
  },
  {
   "metadata": {
    "ExecuteTime": {
     "end_time": "2025-02-04T15:20:49.214047Z",
     "start_time": "2025-02-04T15:20:49.210660Z"
    }
   },
   "cell_type": "code",
   "source": [
    "print(f'Predefined aperture diameter: {inst.aperture_diameter}')\n",
    "\n",
    "inst.aperture_diameter = 3.5  # Attributes are stored as floats (see above), so we input floats in SI units\n",
    "\n",
    "print(f'Updated aperture diameter: {inst.aperture_diameter}')"
   ],
   "id": "8a6507e423cb4151",
   "outputs": [
    {
     "name": "stdout",
     "output_type": "stream",
     "text": [
      "Predefined aperture diameter: 2.0\n",
      "Updated aperture diameter: 3.5\n"
     ]
    }
   ],
   "execution_count": 7
  },
  {
   "metadata": {},
   "cell_type": "markdown",
   "source": "For the instrument we have defined we can now e.g. check the resulting wavelength bins. This depends on its minimum and maximum wavelengths and spectral resolving power:",
   "id": "3f34e991e052cb83"
  },
  {
   "metadata": {},
   "cell_type": "code",
   "outputs": [],
   "execution_count": null,
   "source": "phringe.get_wavelength_bin_centers()",
   "id": "35a06200fb98bad0"
  },
  {
   "metadata": {},
   "cell_type": "markdown",
   "source": "Once we have set both an observation and an instrument, we can also calculate the resulting nulling baseline length:",
   "id": "fab60118837d6b81"
  },
  {
   "metadata": {
    "ExecuteTime": {
     "end_time": "2025-02-04T15:23:55.377198Z",
     "start_time": "2025-02-04T15:23:55.373226Z"
    }
   },
   "cell_type": "code",
   "source": "phringe.get_nulling_baseline()",
   "id": "1497b183a6b00149",
   "outputs": [
    {
     "data": {
      "text/plain": [
       "9.883599496170962"
      ]
     },
     "execution_count": 29,
     "metadata": {},
     "output_type": "execute_result"
    }
   ],
   "execution_count": 29
  },
  {
   "metadata": {},
   "cell_type": "markdown",
   "source": [
    "## Create a Scene and Set it\n",
    "The `Scene` object defined the astrophysical scene that is observed by the instrument. We first create an empty scene and then add sources to it later."
   ],
   "id": "6b67c842f2ab35b3"
  },
  {
   "metadata": {
    "ExecuteTime": {
     "end_time": "2025-02-04T15:20:49.440745Z",
     "start_time": "2025-02-04T15:20:49.437627Z"
    }
   },
   "cell_type": "code",
   "source": [
    "scene = Scene()\n",
    "phringe.set(scene)"
   ],
   "id": "854e16052a6196b0",
   "outputs": [],
   "execution_count": 8
  },
  {
   "metadata": {},
   "cell_type": "markdown",
   "source": "We now add sources corresponding to a star with an exozodiacal disk (exozodi) orbited by a planet as seen through the local zodiacal dust (local zodi).",
   "id": "65ae86bcc79b87e7"
  },
  {
   "metadata": {
    "ExecuteTime": {
     "end_time": "2025-02-04T15:22:00.593024Z",
     "start_time": "2025-02-04T15:22:00.583100Z"
    }
   },
   "cell_type": "code",
   "source": [
    "sun_twin = Star(\n",
    "    name='Sun-Twin',\n",
    "    distance=10 * u.pc,\n",
    "    mass=1 * u.Msun,\n",
    "    radius=1 * u.Rsun,\n",
    "    temperature=5778 * u.K,\n",
    "    right_ascension=10 * u.hourangle,  # Uses units of degrees, not time\n",
    "    declination=45 * u.deg,\n",
    ")\n",
    "earth_twin = Planet(\n",
    "    name='Earth-Twin',\n",
    "    has_orbital_motion=False,  # Whether the planet is propagated in time along its orbit\n",
    "    mass=1 * u.Mearth,\n",
    "    radius=1 * u.Rearth,\n",
    "    temperature=254 * u.K,\n",
    "    semi_major_axis=1 * u.au,\n",
    "    eccentricity=0,\n",
    "    inclination=0 * u.deg,\n",
    "    raan=0 * u.deg,\n",
    "    argument_of_periapsis=135 * u.deg,\n",
    "    true_anomaly=0 * u.deg,\n",
    "    path_to_spectrum=None,\n",
    "    host_star_distance=10 * u.pc,  # Is only required if not star is added explicitly to the scene\n",
    "    host_star_mass=1 * u.Msun,  # Is only required if not star is added explicitly to the scene\n",
    ")\n",
    "exozodi = Exozodi(\n",
    "    level=3.0,  # 3 times the local zodiacal dust level\n",
    "    host_star_luminosity=1 * u.Lsun,  # Is only required if not star is added explicitly to the scene\n",
    "    host_star_distance=10 * u.pc,  # Is only required if not star is added explicitly to the scene\n",
    ")\n",
    "local_zodi = LocalZodi(\n",
    "    host_star_right_ascension=10 * u.hourangle,  # Is only required if not star is added explicitly to the scene\n",
    "    host_star_declination=45 * u.deg,  # Is only required if not star is added explicitly to the scene\n",
    ")\n",
    "\n",
    "scene.add_source(sun_twin)\n",
    "scene.add_source(earth_twin)\n",
    "scene.add_source(exozodi)\n",
    "scene.add_source(local_zodi)"
   ],
   "id": "d581f894d8066895",
   "outputs": [],
   "execution_count": 21
  },
  {
   "metadata": {},
   "cell_type": "markdown",
   "source": "We can now also have a look at the spectra that have been generated for the sources:",
   "id": "6f3424dff30ccb71"
  },
  {
   "metadata": {
    "ExecuteTime": {
     "end_time": "2025-02-04T15:30:19.089039Z",
     "start_time": "2025-02-04T15:30:18.915764Z"
    }
   },
   "cell_type": "code",
   "source": [
    "sun_twin_spectrum = phringe.get_source_spectrum('Sun-Twin').cpu().numpy()\n",
    "earth_twin_spectrum = phringe.get_source_spectrum('Earth-Twin').cpu().numpy()\n",
    "wavelengths = phringe.get_wavelength_bin_centers().cpu().numpy()\n",
    "\n",
    "plt.plot(wavelengths, sun_twin_spectrum, label='Sun-Twin')\n",
    "plt.plot(wavelengths, earth_twin_spectrum, label='Earth-Twin')\n",
    "plt.title('Earth-Twin Spectrum')\n",
    "plt.ylabel('Flux (ph/m^2/um)')\n",
    "plt.xlabel('Wavelength (m)')\n",
    "plt.yscale('log')\n",
    "plt.legend()\n",
    "plt.show()"
   ],
   "id": "940a660e74cca7e0",
   "outputs": [
    {
     "data": {
      "text/plain": [
       "<Figure size 432x288 with 1 Axes>"
      ],
      "image/png": "[encoded data removed]"
     },
     "metadata": {
      "needs_background": "light"
     },
     "output_type": "display_data"
    }
   ],
   "execution_count": 30
  },
  {
   "metadata": {},
   "cell_type": "markdown",
   "source": [
    "## Add Instrument Perturbations\n",
    "A key functionality of `PHRINGE` is the simulation of instrumental perturbations. As is, instrument are created without perturbations and assumed to be perfect. We now add perturbations in amplitude, phase and polarization to our instrument. "
   ],
   "id": "4b41e73354b0d704"
  },
  {
   "metadata": {
    "ExecuteTime": {
     "end_time": "2025-02-04T15:22:01.828217Z",
     "start_time": "2025-02-04T15:22:01.823304Z"
    }
   },
   "cell_type": "code",
   "source": [
    "ampl = AmplitudePerturbation(rms=0.1 * u.percent, color='pink')\n",
    "phase = PhasePerturbation(rms=1.5 * u.nm, color='pink')\n",
    "pol = PolarizationPerturbation(rms=0.001 * u.rad, color='pink')\n",
    "\n",
    "inst.add_perturbation(ampl)\n",
    "inst.add_perturbation(phase)\n",
    "inst.add_perturbation(pol)"
   ],
   "id": "4247eec9ee61147e",
   "outputs": [],
   "execution_count": 22
  },
  {
   "metadata": {},
   "cell_type": "markdown",
   "source": [
    "## Calculate the Counts on the Detector\n",
    "We calculate the raw counts at all four outputs of the nulling interferometer and use it to calculate the differential counts (on a CPU this is likely going to take a few tens of seconds)."
   ],
   "id": "d14f2f67c044556c"
  },
  {
   "metadata": {
    "ExecuteTime": {
     "end_time": "2025-02-04T15:22:02.930559Z",
     "start_time": "2025-02-04T15:22:02.255021Z"
    }
   },
   "cell_type": "code",
   "source": [
    "counts = phringe.get_counts()\n",
    "diff_counts = counts[2] - counts[3]  # Alternatively: phringe.get_diff_counts()"
   ],
   "id": "25a8d9d945d4bdea",
   "outputs": [
    {
     "name": "stderr",
     "output_type": "stream",
     "text": [
      "100%|██████████| 1/1 [00:00<00:00,  1.56it/s]\n"
     ]
    }
   ],
   "execution_count": 23
  },
  {
   "metadata": {},
   "cell_type": "markdown",
   "source": [
    "## Plot the Differential Counts\n",
    "Then we can plot the differential counts:"
   ],
   "id": "a49e431c0d8b2b2c"
  },
  {
   "metadata": {
    "ExecuteTime": {
     "end_time": "2025-02-04T15:31:29.506039Z",
     "start_time": "2025-02-04T15:31:29.389740Z"
    }
   },
   "cell_type": "code",
   "source": [
    "plt.imshow(diff_counts.cpu().numpy(), cmap='Greys')\n",
    "plt.title('Differential Counts')\n",
    "plt.ylabel('Wavelength Channel')\n",
    "plt.xlabel('Time Step')\n",
    "plt.colorbar()\n",
    "plt.show()"
   ],
   "id": "3a7f9f843b72dac2",
   "outputs": [
    {
     "data": {
      "text/plain": [
       "<Figure size 432x288 with 2 Axes>"
      ],
      "image/png": "[encoded data removed]"
     },
     "metadata": {
      "needs_background": "light"
     },
     "output_type": "display_data"
    }
   ],
   "execution_count": 31
  },
  {
   "metadata": {},
   "cell_type": "code",
   "outputs": [],
   "execution_count": null,
   "source": "",
   "id": "6d64374ab54251c9"
  }
 ],
 "metadata": {
  "kernelspec": {
   "display_name": "Python 3",
   "language": "python",
   "name": "python3"
  },
  "language_info": {
   "codemirror_mode": {
    "name": "ipython",
    "version": 2
   },
   "file_extension": ".py",
   "mimetype": "text/x-python",
   "name": "python",
   "nbconvert_exporter": "python",
   "pygments_lexer": "ipython2",
   "version": "2.7.6"
  }
 },
 "nbformat": 4,
 "nbformat_minor": 5
}
