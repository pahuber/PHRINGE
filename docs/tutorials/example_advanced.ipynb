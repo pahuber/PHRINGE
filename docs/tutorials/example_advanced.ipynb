{
 "cells": [
  {
   "metadata": {},
   "cell_type": "markdown",
   "source": [
    "# Advanced Tutorial\n",
    "In this advanced example we illustrate how to generate a synthetic data set using manually created ``Observation``, ``Instrument`` and ``Scene`` objects. We simulate the observation of an Eart-twin around a Suntwin at 10 pc with the LIFE baseline design."
   ],
   "id": "32c482290099e8fd"
  },
  {
   "metadata": {},
   "cell_type": "markdown",
   "source": "",
   "id": "3d2346e9779b251c"
  },
  {
   "metadata": {},
   "cell_type": "markdown",
   "source": "## Import the Required Modules\n",
   "id": "dd4ee00ada87895b"
  },
  {
   "metadata": {},
   "cell_type": "code",
   "source": [
    "import astropy.units as u\n",
    "import matplotlib.pyplot as plt\n",
    "\n",
    "from phringe.entities.observation import Observation\n",
    "from phringe.entities.perturbations.amplitude_perturbation import AmplitudePerturbation\n",
    "from phringe.entities.perturbations.phase_perturbation import PhasePerturbation\n",
    "from phringe.entities.perturbations.polarization_perturbation import PolarizationPerturbation\n",
    "from phringe.entities.scene import Scene\n",
    "from phringe.entities.sources.exozodi import Exozodi\n",
    "from phringe.entities.sources.local_zodi import LocalZodi\n",
    "from phringe.entities.sources.planet import Planet\n",
    "from phringe.entities.sources.star import Star\n",
    "from phringe.main import PHRINGE\n",
    "from phringe.util.library import LIFEBaselineArchitecture"
   ],
   "id": "515c36d15903b489",
   "outputs": [],
   "execution_count": null
  },
  {
   "metadata": {},
   "cell_type": "markdown",
   "source": [
    "## Create the Main PHRINGE Object\n",
    "\n",
    "`PHRINGE` will run on CPU if `gpu=None`. To run int on GPU, an index specifying the GPU is required, e.g. `gpu=0`. For reproducibility `seed` can be set to a specific value, resulting in identical results for each run. Note that `seed=None` results in the use of a random seed each run."
   ],
   "id": "7d72c151b133b466"
  },
  {
   "metadata": {
    "ExecuteTime": {
     "end_time": "2025-02-07T09:48:21.579610Z",
     "start_time": "2025-02-07T09:48:21.539233Z"
    }
   },
   "cell_type": "code",
   "source": "phringe = PHRINGE(gpu_index=1, seed=None, grid_size=40)",
   "id": "ede46dbf8ab906c2",
   "outputs": [],
   "execution_count": 18
  },
  {
   "metadata": {},
   "cell_type": "markdown",
   "source": [
    "## Create an Observation and Set it\n",
    "\n",
    "Arguments that require numerical values with units can be passed either as \n",
    "1. astropy quantities, e.g. `10 * u.m`\n",
    "2. strings with units, e.g. `'10 m'`, or\n",
    "3. floats (ints), assuming SI units, e.g. `10`.\n",
    "\n",
    "The use of astropy quantities is recommended for clarity."
   ],
   "id": "9ca2400481bf523b"
  },
  {
   "metadata": {
    "ExecuteTime": {
     "end_time": "2025-02-07T09:48:22.799759Z",
     "start_time": "2025-02-07T09:48:22.739199Z"
    }
   },
   "cell_type": "code",
   "source": [
    "obs = Observation(\n",
    "    solar_ecliptic_latitude=0 * u.deg,  # alternatively: '0 deg' or 0\n",
    "    total_integration_time=1 * u.day,  # alternatively: '1 d' or 86400\n",
    "    detector_integration_time=600 * u.s,  # alternatively: '600 s' or 600\n",
    "    modulation_period=1 * u.day,  # alternatively: '1 d' or 86400\n",
    "    optimized_differential_output=0,  # This is used to calculate the nulling baseline length\n",
    "    optimized_star_separation='habitable-zone',  # This is used to calculate the nulling baseline length\n",
    "    optimized_wavelength=10 * u.um\n",
    "    # alternatively: '10 um' or 1e-5; this is used to calculate the nulling baseline length\n",
    ")\n",
    "phringe.set(obs)"
   ],
   "id": "e55eeb84375ae52c",
   "outputs": [],
   "execution_count": 19
  },
  {
   "metadata": {},
   "cell_type": "markdown",
   "source": "**Note:** After initialization, the class attributes are converted to SI units and stored as floats, as astropy quantiteis can have a significant impact on performance. For instance:",
   "id": "9e3df85d13f8a125"
  },
  {
   "metadata": {
    "ExecuteTime": {
     "end_time": "2025-02-07T09:48:24.176632Z",
     "start_time": "2025-02-07T09:48:24.148893Z"
    }
   },
   "cell_type": "code",
   "source": "obs.total_integration_time",
   "id": "9545227f825e2bd2",
   "outputs": [
    {
     "data": {
      "text/plain": [
       "86400.0"
      ]
     },
     "execution_count": 20,
     "metadata": {},
     "output_type": "execute_result"
    }
   ],
   "execution_count": 20
  },
  {
   "metadata": {},
   "cell_type": "markdown",
   "source": [
    "## Create an Instrument and Set it\n",
    "An instrument can be created manually using the `Instrument` class or by using a predefined instrument frmo the library. Here, we use the predefined LIFE baseline architecture as our instrument.   "
   ],
   "id": "57cf8de92d846014"
  },
  {
   "metadata": {
    "ExecuteTime": {
     "end_time": "2025-02-07T09:48:25.572157Z",
     "start_time": "2025-02-07T09:48:25.316929Z"
    }
   },
   "cell_type": "code",
   "source": [
    "inst = LIFEBaselineArchitecture()\n",
    "phringe.set(inst)"
   ],
   "id": "6f335cf9c1cf82d0",
   "outputs": [],
   "execution_count": 21
  },
  {
   "metadata": {},
   "cell_type": "markdown",
   "source": "**Note:** Attributes of objects can also be updated. For instance, changing the aperture diameter from the predefined value to 3.5 m:",
   "id": "f92882948a0d43c1"
  },
  {
   "metadata": {
    "ExecuteTime": {
     "end_time": "2025-02-07T09:48:26.811692Z",
     "start_time": "2025-02-07T09:48:26.799102Z"
    }
   },
   "cell_type": "code",
   "source": [
    "print(f'Predefined aperture diameter: {inst.aperture_diameter}')\n",
    "\n",
    "inst.aperture_diameter = 3.5  # Attributes are stored as floats (see above), so we input floats in SI units\n",
    "\n",
    "print(f'Updated aperture diameter: {inst.aperture_diameter}')"
   ],
   "id": "8a6507e423cb4151",
   "outputs": [
    {
     "name": "stdout",
     "output_type": "stream",
     "text": [
      "Predefined aperture diameter: 2.0\n",
      "Updated aperture diameter: 3.5\n"
     ]
    }
   ],
   "execution_count": 22
  },
  {
   "metadata": {},
   "cell_type": "markdown",
   "source": "For the instrument we have defined we can now e.g. check the resulting wavelength bins. This depends on its minimum and maximum wavelengths and spectral resolving power:",
   "id": "3f34e991e052cb83"
  },
  {
   "metadata": {
    "ExecuteTime": {
     "end_time": "2025-02-07T09:48:27.920736Z",
     "start_time": "2025-02-07T09:48:27.889182Z"
    }
   },
   "cell_type": "code",
   "source": "phringe.get_wavelength_bin_centers()",
   "id": "35a06200fb98bad0",
   "outputs": [
    {
     "data": {
      "text/plain": [
       "tensor([4.1026e-06, 4.3130e-06, 4.5341e-06, 4.7666e-06, 5.0111e-06, 5.2681e-06,\n",
       "        5.5382e-06, 5.8222e-06, 6.1208e-06, 6.4347e-06, 6.7647e-06, 7.1116e-06,\n",
       "        7.4763e-06, 7.8597e-06, 8.2628e-06, 8.6865e-06, 9.1319e-06, 9.6003e-06,\n",
       "        1.0093e-05, 1.0610e-05, 1.1154e-05, 1.1726e-05, 1.2328e-05, 1.2960e-05,\n",
       "        1.3624e-05, 1.4323e-05, 1.5058e-05, 1.5830e-05, 1.6642e-05, 1.7495e-05,\n",
       "        1.8216e-05])"
      ]
     },
     "execution_count": 23,
     "metadata": {},
     "output_type": "execute_result"
    }
   ],
   "execution_count": 23
  },
  {
   "metadata": {},
   "cell_type": "markdown",
   "source": "Once we have set both an observation and an instrument, we can also calculate the resulting nulling baseline length:",
   "id": "fab60118837d6b81"
  },
  {
   "metadata": {
    "ExecuteTime": {
     "end_time": "2025-02-07T09:48:29.094546Z",
     "start_time": "2025-02-07T09:48:28.828736Z"
    }
   },
   "cell_type": "code",
   "source": "phringe.get_nulling_baseline()",
   "id": "1497b183a6b00149",
   "outputs": [
    {
     "ename": "AttributeError",
     "evalue": "'NoneType' object has no attribute 'star'",
     "output_type": "error",
     "traceback": [
      "\u001B[1;31m---------------------------------------------------------------------------\u001B[0m",
      "\u001B[1;31mAttributeError\u001B[0m                            Traceback (most recent call last)",
      "Cell \u001B[1;32mIn[24], line 1\u001B[0m\n\u001B[1;32m----> 1\u001B[0m \u001B[43mphringe\u001B[49m\u001B[38;5;241;43m.\u001B[39;49m\u001B[43mget_nulling_baseline\u001B[49m\u001B[43m(\u001B[49m\u001B[43m)\u001B[49m\n",
      "File \u001B[1;32m~\\Desktop\\PHRINGE\\phringe\\main.py:407\u001B[0m, in \u001B[0;36mPHRINGE.get_nulling_baseline\u001B[1;34m(self)\u001B[0m\n\u001B[0;32m    397\u001B[0m \u001B[38;5;28;01mdef\u001B[39;00m\u001B[38;5;250m \u001B[39m\u001B[38;5;21mget_nulling_baseline\u001B[39m(\u001B[38;5;28mself\u001B[39m) \u001B[38;5;241m-\u001B[39m\u001B[38;5;241m>\u001B[39m \u001B[38;5;28mfloat\u001B[39m:\n\u001B[0;32m    398\u001B[0m \u001B[38;5;250m    \u001B[39m\u001B[38;5;124;03m\"\"\"Return the nulling baseline. If it has not been set manually, it is calculated using the observation and instrument parameters.\u001B[39;00m\n\u001B[0;32m    399\u001B[0m \n\u001B[0;32m    400\u001B[0m \n\u001B[1;32m   (...)\u001B[0m\n\u001B[0;32m    405\u001B[0m \n\u001B[0;32m    406\u001B[0m \u001B[38;5;124;03m    \"\"\"\u001B[39;00m\n\u001B[1;32m--> 407\u001B[0m     \u001B[38;5;28;01mreturn\u001B[39;00m \u001B[38;5;28;43mself\u001B[39;49m\u001B[38;5;241;43m.\u001B[39;49m\u001B[43m_instrument\u001B[49m\u001B[38;5;241;43m.\u001B[39;49m\u001B[43m_nulling_baseline\u001B[49m\n",
      "File \u001B[1;32m~\\Desktop\\PHRINGE\\venv2\\lib\\site-packages\\pydantic\\main.py:853\u001B[0m, in \u001B[0;36mBaseModel.__getattr__\u001B[1;34m(self, item)\u001B[0m\n\u001B[0;32m    851\u001B[0m \u001B[38;5;28;01melse\u001B[39;00m:\n\u001B[0;32m    852\u001B[0m     \u001B[38;5;28;01mif\u001B[39;00m \u001B[38;5;28mhasattr\u001B[39m(\u001B[38;5;28mself\u001B[39m\u001B[38;5;241m.\u001B[39m\u001B[38;5;18m__class__\u001B[39m, item):\n\u001B[1;32m--> 853\u001B[0m         \u001B[38;5;28;01mreturn\u001B[39;00m \u001B[38;5;28;43msuper\u001B[39;49m\u001B[43m(\u001B[49m\u001B[43m)\u001B[49m\u001B[38;5;241;43m.\u001B[39;49m\u001B[38;5;21;43m__getattribute__\u001B[39;49m\u001B[43m(\u001B[49m\u001B[43mitem\u001B[49m\u001B[43m)\u001B[49m  \u001B[38;5;66;03m# Raises AttributeError if appropriate\u001B[39;00m\n\u001B[0;32m    854\u001B[0m     \u001B[38;5;28;01melse\u001B[39;00m:\n\u001B[0;32m    855\u001B[0m         \u001B[38;5;66;03m# this is the current error\u001B[39;00m\n\u001B[0;32m    856\u001B[0m         \u001B[38;5;28;01mraise\u001B[39;00m \u001B[38;5;167;01mAttributeError\u001B[39;00m(\u001B[38;5;124mf\u001B[39m\u001B[38;5;124m'\u001B[39m\u001B[38;5;132;01m{\u001B[39;00m\u001B[38;5;28mtype\u001B[39m(\u001B[38;5;28mself\u001B[39m)\u001B[38;5;241m.\u001B[39m\u001B[38;5;18m__name__\u001B[39m\u001B[38;5;132;01m!r}\u001B[39;00m\u001B[38;5;124m object has no attribute \u001B[39m\u001B[38;5;132;01m{\u001B[39;00mitem\u001B[38;5;132;01m!r}\u001B[39;00m\u001B[38;5;124m'\u001B[39m)\n",
      "File \u001B[1;32m~\\Desktop\\PHRINGE\\phringe\\core\\observing_entity.py:135\u001B[0m, in \u001B[0;36mobserving_property.<locals>.decorator.<locals>.getter\u001B[1;34m(self)\u001B[0m\n\u001B[0;32m    133\u001B[0m \u001B[38;5;28;01mdef\u001B[39;00m\u001B[38;5;250m \u001B[39m\u001B[38;5;21mgetter\u001B[39m(\u001B[38;5;28mself\u001B[39m):\n\u001B[0;32m    134\u001B[0m     \u001B[38;5;66;03m# Evaluate each dependency callable to get the current values\u001B[39;00m\n\u001B[1;32m--> 135\u001B[0m     deps \u001B[38;5;241m=\u001B[39m \u001B[38;5;28;43mtuple\u001B[39;49m\u001B[43m(\u001B[49m\u001B[43mfn\u001B[49m\u001B[43m(\u001B[49m\u001B[38;5;28;43mself\u001B[39;49m\u001B[43m)\u001B[49m\u001B[43m \u001B[49m\u001B[38;5;28;43;01mfor\u001B[39;49;00m\u001B[43m \u001B[49m\u001B[43mfn\u001B[49m\u001B[43m \u001B[49m\u001B[38;5;129;43;01min\u001B[39;49;00m\u001B[43m \u001B[49m\u001B[43mobserved_attributes\u001B[49m\u001B[43m)\u001B[49m\n\u001B[0;32m    137\u001B[0m     \u001B[38;5;66;03m# if None in deps:\u001B[39;00m\n\u001B[0;32m    138\u001B[0m     \u001B[38;5;66;03m#     raise ValueError(\"One of the observed attributes is None\")\u001B[39;00m\n\u001B[0;32m    139\u001B[0m \n\u001B[0;32m    140\u001B[0m     \u001B[38;5;66;03m# Now call your signature-based caching method\u001B[39;00m\n\u001B[0;32m    141\u001B[0m     \u001B[38;5;28;01mreturn\u001B[39;00m \u001B[38;5;28mself\u001B[39m\u001B[38;5;241m.\u001B[39m_get_cached_value(\n\u001B[0;32m    142\u001B[0m         attribute_name\u001B[38;5;241m=\u001B[39mmethod\u001B[38;5;241m.\u001B[39m\u001B[38;5;18m__qualname__\u001B[39m,\n\u001B[0;32m    143\u001B[0m         compute_func\u001B[38;5;241m=\u001B[39m\u001B[38;5;28;01mlambda\u001B[39;00m: method(\u001B[38;5;28mself\u001B[39m),\n\u001B[0;32m    144\u001B[0m         required_attributes\u001B[38;5;241m=\u001B[39mdeps\n\u001B[0;32m    145\u001B[0m     )\n",
      "File \u001B[1;32m~\\Desktop\\PHRINGE\\phringe\\core\\observing_entity.py:135\u001B[0m, in \u001B[0;36m<genexpr>\u001B[1;34m(.0)\u001B[0m\n\u001B[0;32m    133\u001B[0m \u001B[38;5;28;01mdef\u001B[39;00m\u001B[38;5;250m \u001B[39m\u001B[38;5;21mgetter\u001B[39m(\u001B[38;5;28mself\u001B[39m):\n\u001B[0;32m    134\u001B[0m     \u001B[38;5;66;03m# Evaluate each dependency callable to get the current values\u001B[39;00m\n\u001B[1;32m--> 135\u001B[0m     deps \u001B[38;5;241m=\u001B[39m \u001B[38;5;28mtuple\u001B[39m(\u001B[43mfn\u001B[49m\u001B[43m(\u001B[49m\u001B[38;5;28;43mself\u001B[39;49m\u001B[43m)\u001B[49m \u001B[38;5;28;01mfor\u001B[39;00m fn \u001B[38;5;129;01min\u001B[39;00m observed_attributes)\n\u001B[0;32m    137\u001B[0m     \u001B[38;5;66;03m# if None in deps:\u001B[39;00m\n\u001B[0;32m    138\u001B[0m     \u001B[38;5;66;03m#     raise ValueError(\"One of the observed attributes is None\")\u001B[39;00m\n\u001B[0;32m    139\u001B[0m \n\u001B[0;32m    140\u001B[0m     \u001B[38;5;66;03m# Now call your signature-based caching method\u001B[39;00m\n\u001B[0;32m    141\u001B[0m     \u001B[38;5;28;01mreturn\u001B[39;00m \u001B[38;5;28mself\u001B[39m\u001B[38;5;241m.\u001B[39m_get_cached_value(\n\u001B[0;32m    142\u001B[0m         attribute_name\u001B[38;5;241m=\u001B[39mmethod\u001B[38;5;241m.\u001B[39m\u001B[38;5;18m__qualname__\u001B[39m,\n\u001B[0;32m    143\u001B[0m         compute_func\u001B[38;5;241m=\u001B[39m\u001B[38;5;28;01mlambda\u001B[39;00m: method(\u001B[38;5;28mself\u001B[39m),\n\u001B[0;32m    144\u001B[0m         required_attributes\u001B[38;5;241m=\u001B[39mdeps\n\u001B[0;32m    145\u001B[0m     )\n",
      "File \u001B[1;32m~\\Desktop\\PHRINGE\\phringe\\entities\\instrument.py:168\u001B[0m, in \u001B[0;36mInstrument.<lambda>\u001B[1;34m(s)\u001B[0m\n\u001B[0;32m    162\u001B[0m \u001B[38;5;129m@property\u001B[39m\n\u001B[0;32m    163\u001B[0m \u001B[38;5;28;01mdef\u001B[39;00m\u001B[38;5;250m \u001B[39m\u001B[38;5;21m_number_of_simulation_time_steps\u001B[39m(\u001B[38;5;28mself\u001B[39m):\n\u001B[0;32m    164\u001B[0m     \u001B[38;5;28;01mreturn\u001B[39;00m \u001B[38;5;28mlen\u001B[39m(\u001B[38;5;28mself\u001B[39m\u001B[38;5;241m.\u001B[39m_simulation_time_steps)\n\u001B[0;32m    166\u001B[0m \u001B[38;5;129m@observing_property\u001B[39m(\n\u001B[0;32m    167\u001B[0m     observed_attributes\u001B[38;5;241m=\u001B[39m(\n\u001B[1;32m--> 168\u001B[0m             \u001B[38;5;28;01mlambda\u001B[39;00m s: s\u001B[38;5;241m.\u001B[39m_phringe\u001B[38;5;241m.\u001B[39m_scene\u001B[38;5;241m.\u001B[39mstar\u001B[38;5;241m.\u001B[39m_habitable_zone_central_angular_radius \u001B[38;5;28;01mif\u001B[39;00m \u001B[43ms\u001B[49m\u001B[38;5;241;43m.\u001B[39;49m\u001B[43m_phringe\u001B[49m\u001B[38;5;241;43m.\u001B[39;49m\u001B[43m_scene\u001B[49m\u001B[38;5;241;43m.\u001B[39;49m\u001B[43mstar\u001B[49m \u001B[38;5;28;01melse\u001B[39;00m \u001B[38;5;28;01mNone\u001B[39;00m,\n\u001B[0;32m    169\u001B[0m             \u001B[38;5;28;01mlambda\u001B[39;00m s: s\u001B[38;5;241m.\u001B[39m_phringe\u001B[38;5;241m.\u001B[39m_observation\u001B[38;5;241m.\u001B[39moptimized_star_separation,\n\u001B[0;32m    170\u001B[0m             \u001B[38;5;28;01mlambda\u001B[39;00m s: s\u001B[38;5;241m.\u001B[39m_phringe\u001B[38;5;241m.\u001B[39m_observation\u001B[38;5;241m.\u001B[39moptimized_differential_output,\n\u001B[0;32m    171\u001B[0m             \u001B[38;5;28;01mlambda\u001B[39;00m s: s\u001B[38;5;241m.\u001B[39m_phringe\u001B[38;5;241m.\u001B[39m_observation\u001B[38;5;241m.\u001B[39moptimized_wavelength,\n\u001B[0;32m    172\u001B[0m             \u001B[38;5;28;01mlambda\u001B[39;00m s: s\u001B[38;5;241m.\u001B[39mbaseline_minimum,\n\u001B[0;32m    173\u001B[0m             \u001B[38;5;28;01mlambda\u001B[39;00m s: s\u001B[38;5;241m.\u001B[39mbaseline_maximum,\n\u001B[0;32m    174\u001B[0m             \u001B[38;5;28;01mlambda\u001B[39;00m s: s\u001B[38;5;241m.\u001B[39msep_at_max_mod_eff\n\u001B[0;32m    175\u001B[0m     )\n\u001B[0;32m    176\u001B[0m )\n\u001B[0;32m    177\u001B[0m \u001B[38;5;28;01mdef\u001B[39;00m\u001B[38;5;250m \u001B[39m\u001B[38;5;21m_nulling_baseline\u001B[39m(\u001B[38;5;28mself\u001B[39m) \u001B[38;5;241m-\u001B[39m\u001B[38;5;241m>\u001B[39m \u001B[38;5;28mfloat\u001B[39m:\n\u001B[0;32m    178\u001B[0m     \u001B[38;5;66;03m# Get the optimized separation in angular units, if it is not yet in angular units\u001B[39;00m\n\u001B[0;32m    179\u001B[0m     \u001B[38;5;28;01mif\u001B[39;00m \u001B[38;5;28mself\u001B[39m\u001B[38;5;241m.\u001B[39m_phringe\u001B[38;5;241m.\u001B[39m_observation\u001B[38;5;241m.\u001B[39moptimized_star_separation \u001B[38;5;241m==\u001B[39m \u001B[38;5;124m\"\u001B[39m\u001B[38;5;124mhabitable-zone\u001B[39m\u001B[38;5;124m\"\u001B[39m:\n\u001B[0;32m    180\u001B[0m         optimized_star_separation \u001B[38;5;241m=\u001B[39m \u001B[38;5;28mself\u001B[39m\u001B[38;5;241m.\u001B[39m_phringe\u001B[38;5;241m.\u001B[39m_scene\u001B[38;5;241m.\u001B[39mstar\u001B[38;5;241m.\u001B[39m_habitable_zone_central_angular_radius\n",
      "\u001B[1;31mAttributeError\u001B[0m: 'NoneType' object has no attribute 'star'"
     ]
    }
   ],
   "execution_count": 24
  },
  {
   "metadata": {},
   "cell_type": "markdown",
   "source": [
    "## Create a Scene and Set it\n",
    "The `Scene` object defined the astrophysical scene that is observed by the instrument. We first create an empty scene and then add sources to it later."
   ],
   "id": "6b67c842f2ab35b3"
  },
  {
   "metadata": {
    "ExecuteTime": {
     "end_time": "2025-02-07T09:48:29.747838Z",
     "start_time": "2025-02-07T09:48:29.738925Z"
    }
   },
   "cell_type": "code",
   "source": [
    "scene = Scene()\n",
    "phringe.set(scene)"
   ],
   "id": "854e16052a6196b0",
   "outputs": [],
   "execution_count": 25
  },
  {
   "metadata": {},
   "cell_type": "markdown",
   "source": "We now add sources corresponding to a star with an exozodiacal disk (exozodi) orbited by a planet as seen through the local zodiacal dust (local zodi).",
   "id": "65ae86bcc79b87e7"
  },
  {
   "metadata": {
    "ExecuteTime": {
     "end_time": "2025-02-07T09:48:30.689247Z",
     "start_time": "2025-02-07T09:48:30.661875Z"
    }
   },
   "cell_type": "code",
   "source": [
    "sun_twin = Star(\n",
    "    name='Sun-Twin',\n",
    "    distance=10 * u.pc,\n",
    "    mass=1 * u.Msun,\n",
    "    radius=1 * u.Rsun,\n",
    "    temperature=5778 * u.K,\n",
    "    right_ascension=10 * u.hourangle,  # Uses units of degrees, not time\n",
    "    declination=45 * u.deg,\n",
    ")\n",
    "earth_twin = Planet(\n",
    "    name='Earth-Twin',\n",
    "    has_orbital_motion=False,  # Whether the planet is propagated in time along its orbit\n",
    "    mass=1 * u.Mearth,\n",
    "    radius=1 * u.Rearth,\n",
    "    temperature=254 * u.K,\n",
    "    semi_major_axis=1 * u.au,\n",
    "    eccentricity=0,\n",
    "    inclination=0 * u.deg,\n",
    "    raan=0 * u.deg,\n",
    "    argument_of_periapsis=135 * u.deg,\n",
    "    true_anomaly=0 * u.deg,\n",
    "    path_to_spectrum=None,\n",
    "    host_star_distance=10 * u.pc,  # Is only required if not star is added explicitly to the scene\n",
    "    host_star_mass=1 * u.Msun,  # Is only required if not star is added explicitly to the scene\n",
    ")\n",
    "exozodi = Exozodi(\n",
    "    level=3.0,  # 3 times the local zodiacal dust level\n",
    "    host_star_luminosity=1 * u.Lsun,  # Is only required if not star is added explicitly to the scene\n",
    "    host_star_distance=10 * u.pc,  # Is only required if not star is added explicitly to the scene\n",
    ")\n",
    "local_zodi = LocalZodi(\n",
    "    host_star_right_ascension=10 * u.hourangle,  # Is only required if not star is added explicitly to the scene\n",
    "    host_star_declination=45 * u.deg,  # Is only required if not star is added explicitly to the scene\n",
    ")\n",
    "\n",
    "scene.add_source(sun_twin)\n",
    "scene.add_source(earth_twin)\n",
    "scene.add_source(exozodi)\n",
    "scene.add_source(local_zodi)"
   ],
   "id": "d581f894d8066895",
   "outputs": [],
   "execution_count": 26
  },
  {
   "metadata": {},
   "cell_type": "markdown",
   "source": "We can now also have a look at the spectra that have been generated for the sources:",
   "id": "6f3424dff30ccb71"
  },
  {
   "metadata": {
    "ExecuteTime": {
     "end_time": "2025-02-07T09:48:31.803827Z",
     "start_time": "2025-02-07T09:48:31.588800Z"
    }
   },
   "cell_type": "code",
   "source": [
    "sun_twin_spectrum = phringe.get_source_spectrum('Sun-Twin').cpu().numpy()\n",
    "earth_twin_spectrum = phringe.get_source_spectrum('Earth-Twin').cpu().numpy()\n",
    "wavelengths = phringe.get_wavelength_bin_centers().cpu().numpy()\n",
    "\n",
    "plt.plot(wavelengths, sun_twin_spectrum, label='Sun-Twin')\n",
    "plt.plot(wavelengths, earth_twin_spectrum, label='Earth-Twin')\n",
    "plt.title('Earth-Twin Spectrum')\n",
    "plt.ylabel('Flux (ph/m^2/um)')\n",
    "plt.xlabel('Wavelength (m)')\n",
    "plt.yscale('log')\n",
    "plt.legend()\n",
    "plt.show()"
   ],
   "id": "940a660e74cca7e0",
   "outputs": [
    {
     "data": {
      "text/plain": [
       "<Figure size 640x480 with 1 Axes>"
      ],
      "image/png": "[encoded data removed]"
     },
     "metadata": {},
     "output_type": "display_data"
    }
   ],
   "execution_count": 27
  },
  {
   "metadata": {},
   "cell_type": "markdown",
   "source": [
    "## Add Instrument Perturbations\n",
    "A key functionality of `PHRINGE` is the simulation of instrumental perturbations. As is, instrument are created without perturbations and assumed to be perfect. We now add perturbations in amplitude, phase and polarization to our instrument. "
   ],
   "id": "4b41e73354b0d704"
  },
  {
   "metadata": {
    "ExecuteTime": {
     "end_time": "2025-02-07T09:48:32.544287Z",
     "start_time": "2025-02-07T09:48:32.523854Z"
    }
   },
   "cell_type": "code",
   "source": [
    "ampl = AmplitudePerturbation(rms=0.1 * u.percent, color='pink')\n",
    "phase = PhasePerturbation(rms=1.5 * u.nm, color='pink')\n",
    "pol = PolarizationPerturbation(rms=0.001 * u.rad, color='pink')\n",
    "\n",
    "inst.add_perturbation(ampl)\n",
    "inst.add_perturbation(phase)\n",
    "inst.add_perturbation(pol)"
   ],
   "id": "4247eec9ee61147e",
   "outputs": [],
   "execution_count": 28
  },
  {
   "metadata": {},
   "cell_type": "markdown",
   "source": [
    "## Calculate the Counts on the Detector\n",
    "We calculate the raw counts at all four outputs of the nulling interferometer and use it to calculate the differential counts (on a CPU this is likely going to take a few tens of seconds)."
   ],
   "id": "d14f2f67c044556c"
  },
  {
   "metadata": {
    "ExecuteTime": {
     "end_time": "2025-02-07T09:48:46.349789Z",
     "start_time": "2025-02-07T09:48:33.518428Z"
    }
   },
   "cell_type": "code",
   "source": [
    "counts = phringe.get_counts()\n",
    "diff_counts = counts[2] - counts[3]  # Alternatively: phringe.get_diff_counts()"
   ],
   "id": "25a8d9d945d4bdea",
   "outputs": [
    {
     "name": "stderr",
     "output_type": "stream",
     "text": [
      "100%|██████████| 1/1 [00:12<00:00, 12.79s/it]\n"
     ]
    }
   ],
   "execution_count": 29
  },
  {
   "metadata": {},
   "cell_type": "markdown",
   "source": [
    "## Plot the Differential Counts\n",
    "Then we can plot the differential counts:"
   ],
   "id": "a49e431c0d8b2b2c"
  },
  {
   "metadata": {
    "ExecuteTime": {
     "end_time": "2025-02-07T09:49:08.261739Z",
     "start_time": "2025-02-07T09:49:08.017172Z"
    }
   },
   "cell_type": "code",
   "source": [
    "plt.imshow(diff_counts.cpu().numpy(), cmap='Greys')\n",
    "plt.title('Differential Counts')\n",
    "plt.ylabel('Wavelength Channel')\n",
    "plt.xlabel('Time Step')\n",
    "plt.colorbar()\n",
    "plt.show()"
   ],
   "id": "3a7f9f843b72dac2",
   "outputs": [
    {
     "data": {
      "text/plain": [
       "<Figure size 640x480 with 2 Axes>"
      ],
      "image/png": "[encoded data removed]"
     },
     "metadata": {},
     "output_type": "display_data"
    }
   ],
   "execution_count": 30
  },
  {
   "metadata": {},
   "cell_type": "code",
   "outputs": [],
   "execution_count": null,
   "source": "",
   "id": "c7c1e5aaea02ea39"
  }
 ],
 "metadata": {
  "kernelspec": {
   "display_name": "Python 3",
   "language": "python",
   "name": "python3"
  },
  "language_info": {
   "codemirror_mode": {
    "name": "ipython",
    "version": 2
   },
   "file_extension": ".py",
   "mimetype": "text/x-python",
   "name": "python",
   "nbconvert_exporter": "python",
   "pygments_lexer": "ipython2",
   "version": "2.7.6"
  }
 },
 "nbformat": 4,
 "nbformat_minor": 5
}
